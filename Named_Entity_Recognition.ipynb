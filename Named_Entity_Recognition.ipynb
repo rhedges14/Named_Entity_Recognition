{
 "cells": [
  {
   "cell_type": "markdown",
   "metadata": {},
   "source": [
    "# Overview:\n",
    "**Project Objective:** Create a classifier to predict Named Entities from words\n",
    "\n",
    "**Problem Type:** This is a supervised learning classification problem\n",
    "\n",
    "**Performance Measures:**\n",
    "- Accuracy: Correct Predictions / Total Predictions\n",
    "- Precision: True Positives / Total Positives\n",
    "- Recall: True Positives / Actual Positives\n",
    "- F1-Score: Weighted average of Precision and Recall\n",
    "\n",
    "Mostly importantly, our goal is to accurately identify Named Entities. Therefore, the focus should be on the Recall and F1-Score of our various entity classes, with less emphasis on non-entity words. That being said, we still need to be mindful of our False Positives. The **Macro F1-Score** may be our most appropriate metric since our classes are significantly imbalanced, which calculates the average, unweighted, F1-Score from each class label."
   ]
  },
  {
   "cell_type": "markdown",
   "metadata": {},
   "source": [
    "**Imports:**"
   ]
  },
  {
   "cell_type": "code",
   "execution_count": 168,
   "metadata": {},
   "outputs": [],
   "source": [
    "import pandas as pd\n",
    "import numpy as np\n",
    "import matplotlib.pyplot as plt\n",
    "%matplotlib inline\n",
    "import seaborn as sns; sns.set()\n",
    "\n",
    "from nltk.stem.porter import PorterStemmer\n",
    "from nltk.tokenize import word_tokenize\n",
    "from nltk import pos_tag\n",
    "from nltk.corpus import stopwords\n",
    "from sklearn.feature_extraction.text import CountVectorizer\n",
    "\n",
    "from sklearn.svm import LinearSVC, SVC\n",
    "from sklearn.model_selection import train_test_split, cross_validate, GridSearchCV\n",
    "from sklearn.metrics import accuracy_score, f1_score, classification_report, confusion_matrix\n",
    "from sklearn.pipeline import make_pipeline\n",
    "from sklearn.decomposition import PCA\n",
    "\n",
    "from keras import layers, models\n",
    "from keras.utils.np_utils import to_categorical\n",
    "from keras.preprocessing.text import Tokenizer\n",
    "\n",
    "import unicodedata\n",
    "import sys"
   ]
  },
  {
   "cell_type": "markdown",
   "metadata": {},
   "source": [
    "# Import Data\n",
    "We apparently have a non-ascii character in the data which  can't be encoded/decoded during normal parsing. Therefore, we will read the data in as one string per row and parse manually."
   ]
  },
  {
   "cell_type": "code",
   "execution_count": 2,
   "metadata": {
    "scrolled": true
   },
   "outputs": [
    {
     "name": "stderr",
     "output_type": "stream",
     "text": [
      "C:\\Users\\RHedg\\.conda\\envs\\opencv\\lib\\site-packages\\ipykernel_launcher.py:1: ParserWarning: Falling back to the 'python' engine because the 'c' engine does not support regex separators (separators > 1 char and different from '\\s+' are interpreted as regex); you can avoid this warning by specifying engine='python'.\n",
      "  \"\"\"Entry point for launching an IPython kernel.\n"
     ]
    }
   ],
   "source": [
    "data_import = pd.read_csv(\"Dataset_01-29-2019.txt\",sep=\"  \")"
   ]
  },
  {
   "cell_type": "code",
   "execution_count": 6,
   "metadata": {},
   "outputs": [
    {
     "data": {
      "text/html": [
       "<div>\n",
       "<style scoped>\n",
       "    .dataframe tbody tr th:only-of-type {\n",
       "        vertical-align: middle;\n",
       "    }\n",
       "\n",
       "    .dataframe tbody tr th {\n",
       "        vertical-align: top;\n",
       "    }\n",
       "\n",
       "    .dataframe thead th {\n",
       "        text-align: right;\n",
       "    }\n",
       "</style>\n",
       "<table border=\"1\" class=\"dataframe\">\n",
       "  <thead>\n",
       "    <tr style=\"text-align: right;\">\n",
       "      <th></th>\n",
       "      <th>Sentence #\tWord\tPOS\tTag</th>\n",
       "    </tr>\n",
       "  </thead>\n",
       "  <tbody>\n",
       "    <tr>\n",
       "      <th>0</th>\n",
       "      <td>0\\t1.0\\tThousands\\tNNS\\tO</td>\n",
       "    </tr>\n",
       "    <tr>\n",
       "      <th>1</th>\n",
       "      <td>1\\t1.0\\tof\\tIN\\tO</td>\n",
       "    </tr>\n",
       "    <tr>\n",
       "      <th>2</th>\n",
       "      <td>2\\t1.0\\tdemonstrators\\tNNS\\tO</td>\n",
       "    </tr>\n",
       "    <tr>\n",
       "      <th>3</th>\n",
       "      <td>3\\t1.0\\thave\\tVBP\\tO</td>\n",
       "    </tr>\n",
       "    <tr>\n",
       "      <th>4</th>\n",
       "      <td>4\\t1.0\\tmarched\\tVBN\\tO</td>\n",
       "    </tr>\n",
       "  </tbody>\n",
       "</table>\n",
       "</div>"
      ],
      "text/plain": [
       "      Sentence #\\tWord\\tPOS\\tTag\n",
       "0      0\\t1.0\\tThousands\\tNNS\\tO\n",
       "1              1\\t1.0\\tof\\tIN\\tO\n",
       "2  2\\t1.0\\tdemonstrators\\tNNS\\tO\n",
       "3           3\\t1.0\\thave\\tVBP\\tO\n",
       "4        4\\t1.0\\tmarched\\tVBN\\tO"
      ]
     },
     "execution_count": 6,
     "metadata": {},
     "output_type": "execute_result"
    }
   ],
   "source": [
    "data_import.head()"
   ]
  },
  {
   "cell_type": "code",
   "execution_count": 4,
   "metadata": {},
   "outputs": [
    {
     "data": {
      "text/plain": [
       "(66161, 1)"
      ]
     },
     "execution_count": 4,
     "metadata": {},
     "output_type": "execute_result"
    }
   ],
   "source": [
    "data_import.shape"
   ]
  },
  {
   "cell_type": "markdown",
   "metadata": {},
   "source": [
    "Fix our dataframe by extracting original columns:"
   ]
  },
  {
   "cell_type": "code",
   "execution_count": 13,
   "metadata": {},
   "outputs": [
    {
     "name": "stdout",
     "output_type": "stream",
     "text": [
      "0\n",
      "10000\n",
      "20000\n",
      "30000\n",
      "40000\n",
      "50000\n",
      "60000\n"
     ]
    }
   ],
   "source": [
    "columns = ['Sentence #','Word','POS','Tag']\n",
    "fix_df = pd.DataFrame(columns = columns)\n",
    "for i in np.arange(data_import.shape[0]):\n",
    "    row = pd.Series(np.array(data_import.iloc[i].values[0].split())[1:],\n",
    "         index=columns)\n",
    "    fix_df = fix_df.append(row, ignore_index=True)\n",
    "    if i % 10000 == 0:\n",
    "        print(i)"
   ]
  },
  {
   "cell_type": "markdown",
   "metadata": {},
   "source": [
    "# Data Preparation (Cleaning, Exploration, and Feature Engineering)"
   ]
  },
  {
   "cell_type": "markdown",
   "metadata": {},
   "source": [
    "Start by examining high-level data characteristics:"
   ]
  },
  {
   "cell_type": "code",
   "execution_count": 18,
   "metadata": {},
   "outputs": [
    {
     "data": {
      "text/html": [
       "<div>\n",
       "<style scoped>\n",
       "    .dataframe tbody tr th:only-of-type {\n",
       "        vertical-align: middle;\n",
       "    }\n",
       "\n",
       "    .dataframe tbody tr th {\n",
       "        vertical-align: top;\n",
       "    }\n",
       "\n",
       "    .dataframe thead th {\n",
       "        text-align: right;\n",
       "    }\n",
       "</style>\n",
       "<table border=\"1\" class=\"dataframe\">\n",
       "  <thead>\n",
       "    <tr style=\"text-align: right;\">\n",
       "      <th></th>\n",
       "      <th>Sentence #</th>\n",
       "      <th>Word</th>\n",
       "      <th>POS</th>\n",
       "      <th>Tag</th>\n",
       "    </tr>\n",
       "  </thead>\n",
       "  <tbody>\n",
       "    <tr>\n",
       "      <th>0</th>\n",
       "      <td>1.0</td>\n",
       "      <td>Thousands</td>\n",
       "      <td>NNS</td>\n",
       "      <td>O</td>\n",
       "    </tr>\n",
       "    <tr>\n",
       "      <th>1</th>\n",
       "      <td>1.0</td>\n",
       "      <td>of</td>\n",
       "      <td>IN</td>\n",
       "      <td>O</td>\n",
       "    </tr>\n",
       "    <tr>\n",
       "      <th>2</th>\n",
       "      <td>1.0</td>\n",
       "      <td>demonstrators</td>\n",
       "      <td>NNS</td>\n",
       "      <td>O</td>\n",
       "    </tr>\n",
       "    <tr>\n",
       "      <th>3</th>\n",
       "      <td>1.0</td>\n",
       "      <td>have</td>\n",
       "      <td>VBP</td>\n",
       "      <td>O</td>\n",
       "    </tr>\n",
       "    <tr>\n",
       "      <th>4</th>\n",
       "      <td>1.0</td>\n",
       "      <td>marched</td>\n",
       "      <td>VBN</td>\n",
       "      <td>O</td>\n",
       "    </tr>\n",
       "  </tbody>\n",
       "</table>\n",
       "</div>"
      ],
      "text/plain": [
       "  Sentence #           Word  POS Tag\n",
       "0        1.0      Thousands  NNS   O\n",
       "1        1.0             of   IN   O\n",
       "2        1.0  demonstrators  NNS   O\n",
       "3        1.0           have  VBP   O\n",
       "4        1.0        marched  VBN   O"
      ]
     },
     "execution_count": 18,
     "metadata": {},
     "output_type": "execute_result"
    }
   ],
   "source": [
    "fix_df.head()"
   ]
  },
  {
   "cell_type": "code",
   "execution_count": 60,
   "metadata": {},
   "outputs": [
    {
     "data": {
      "text/plain": [
       "(66161, 4)"
      ]
     },
     "execution_count": 60,
     "metadata": {},
     "output_type": "execute_result"
    }
   ],
   "source": [
    "df = fix_df.copy()\n",
    "df.shape"
   ]
  },
  {
   "cell_type": "code",
   "execution_count": 61,
   "metadata": {},
   "outputs": [
    {
     "data": {
      "text/html": [
       "<div>\n",
       "<style scoped>\n",
       "    .dataframe tbody tr th:only-of-type {\n",
       "        vertical-align: middle;\n",
       "    }\n",
       "\n",
       "    .dataframe tbody tr th {\n",
       "        vertical-align: top;\n",
       "    }\n",
       "\n",
       "    .dataframe thead th {\n",
       "        text-align: right;\n",
       "    }\n",
       "</style>\n",
       "<table border=\"1\" class=\"dataframe\">\n",
       "  <thead>\n",
       "    <tr style=\"text-align: right;\">\n",
       "      <th></th>\n",
       "      <th>Sentence #</th>\n",
       "      <th>Word</th>\n",
       "      <th>POS</th>\n",
       "      <th>Tag</th>\n",
       "    </tr>\n",
       "  </thead>\n",
       "  <tbody>\n",
       "    <tr>\n",
       "      <th>0</th>\n",
       "      <td>1.0</td>\n",
       "      <td>Thousands</td>\n",
       "      <td>NNS</td>\n",
       "      <td>O</td>\n",
       "    </tr>\n",
       "    <tr>\n",
       "      <th>1</th>\n",
       "      <td>1.0</td>\n",
       "      <td>of</td>\n",
       "      <td>IN</td>\n",
       "      <td>O</td>\n",
       "    </tr>\n",
       "    <tr>\n",
       "      <th>2</th>\n",
       "      <td>1.0</td>\n",
       "      <td>demonstrators</td>\n",
       "      <td>NNS</td>\n",
       "      <td>O</td>\n",
       "    </tr>\n",
       "    <tr>\n",
       "      <th>3</th>\n",
       "      <td>1.0</td>\n",
       "      <td>have</td>\n",
       "      <td>VBP</td>\n",
       "      <td>O</td>\n",
       "    </tr>\n",
       "    <tr>\n",
       "      <th>4</th>\n",
       "      <td>1.0</td>\n",
       "      <td>marched</td>\n",
       "      <td>VBN</td>\n",
       "      <td>O</td>\n",
       "    </tr>\n",
       "    <tr>\n",
       "      <th>5</th>\n",
       "      <td>1.0</td>\n",
       "      <td>through</td>\n",
       "      <td>IN</td>\n",
       "      <td>O</td>\n",
       "    </tr>\n",
       "    <tr>\n",
       "      <th>6</th>\n",
       "      <td>1.0</td>\n",
       "      <td>London</td>\n",
       "      <td>NNP</td>\n",
       "      <td>B-geo</td>\n",
       "    </tr>\n",
       "    <tr>\n",
       "      <th>7</th>\n",
       "      <td>1.0</td>\n",
       "      <td>to</td>\n",
       "      <td>TO</td>\n",
       "      <td>O</td>\n",
       "    </tr>\n",
       "    <tr>\n",
       "      <th>8</th>\n",
       "      <td>1.0</td>\n",
       "      <td>protest</td>\n",
       "      <td>VB</td>\n",
       "      <td>O</td>\n",
       "    </tr>\n",
       "    <tr>\n",
       "      <th>9</th>\n",
       "      <td>1.0</td>\n",
       "      <td>the</td>\n",
       "      <td>DT</td>\n",
       "      <td>O</td>\n",
       "    </tr>\n",
       "  </tbody>\n",
       "</table>\n",
       "</div>"
      ],
      "text/plain": [
       "  Sentence #           Word  POS    Tag\n",
       "0        1.0      Thousands  NNS      O\n",
       "1        1.0             of   IN      O\n",
       "2        1.0  demonstrators  NNS      O\n",
       "3        1.0           have  VBP      O\n",
       "4        1.0        marched  VBN      O\n",
       "5        1.0        through   IN      O\n",
       "6        1.0         London  NNP  B-geo\n",
       "7        1.0             to   TO      O\n",
       "8        1.0        protest   VB      O\n",
       "9        1.0            the   DT      O"
      ]
     },
     "execution_count": 61,
     "metadata": {},
     "output_type": "execute_result"
    }
   ],
   "source": [
    "df.head(10)"
   ]
  },
  {
   "cell_type": "code",
   "execution_count": 62,
   "metadata": {},
   "outputs": [
    {
     "data": {
      "text/html": [
       "<div>\n",
       "<style scoped>\n",
       "    .dataframe tbody tr th:only-of-type {\n",
       "        vertical-align: middle;\n",
       "    }\n",
       "\n",
       "    .dataframe tbody tr th {\n",
       "        vertical-align: top;\n",
       "    }\n",
       "\n",
       "    .dataframe thead th {\n",
       "        text-align: right;\n",
       "    }\n",
       "</style>\n",
       "<table border=\"1\" class=\"dataframe\">\n",
       "  <thead>\n",
       "    <tr style=\"text-align: right;\">\n",
       "      <th></th>\n",
       "      <th>Sentence #</th>\n",
       "      <th>Word</th>\n",
       "      <th>POS</th>\n",
       "      <th>Tag</th>\n",
       "    </tr>\n",
       "  </thead>\n",
       "  <tbody>\n",
       "    <tr>\n",
       "      <th>count</th>\n",
       "      <td>66161</td>\n",
       "      <td>66161</td>\n",
       "      <td>66161</td>\n",
       "      <td>66161</td>\n",
       "    </tr>\n",
       "    <tr>\n",
       "      <th>unique</th>\n",
       "      <td>2999</td>\n",
       "      <td>8766</td>\n",
       "      <td>41</td>\n",
       "      <td>17</td>\n",
       "    </tr>\n",
       "    <tr>\n",
       "      <th>top</th>\n",
       "      <td>2549.0</td>\n",
       "      <td>the</td>\n",
       "      <td>NN</td>\n",
       "      <td>O</td>\n",
       "    </tr>\n",
       "    <tr>\n",
       "      <th>freq</th>\n",
       "      <td>70</td>\n",
       "      <td>3292</td>\n",
       "      <td>9307</td>\n",
       "      <td>56217</td>\n",
       "    </tr>\n",
       "  </tbody>\n",
       "</table>\n",
       "</div>"
      ],
      "text/plain": [
       "       Sentence #   Word    POS    Tag\n",
       "count       66161  66161  66161  66161\n",
       "unique       2999   8766     41     17\n",
       "top        2549.0    the     NN      O\n",
       "freq           70   3292   9307  56217"
      ]
     },
     "execution_count": 62,
     "metadata": {},
     "output_type": "execute_result"
    }
   ],
   "source": [
    "df.describe()"
   ]
  },
  {
   "cell_type": "code",
   "execution_count": 63,
   "metadata": {},
   "outputs": [
    {
     "data": {
      "text/plain": [
       "Sentence #    object\n",
       "Word          object\n",
       "POS           object\n",
       "Tag           object\n",
       "dtype: object"
      ]
     },
     "execution_count": 63,
     "metadata": {},
     "output_type": "execute_result"
    }
   ],
   "source": [
    "df.dtypes"
   ]
  },
  {
   "cell_type": "markdown",
   "metadata": {},
   "source": [
    "### Some initial thoughts:\n",
    "- Our raw data contains four variables, including our target: Sentence # (str), Word (str), POS (str), and Tag (str)\n",
    "- While **Sentence #** won't be directly helpful in our models, it will be used to help disect sentences and assist with feature extraction\n",
    "- The **Word** variable will be the root of all of our other features. A few initial ideas of transformations/feature extractions that can be applied are:\n",
    "    - Word vectorization\n",
    "    - Prior word(s) vectorization\n",
    "    - Next word(s) vectorization\n",
    "    - Length of word\n",
    "    - POS of word/prior word/next word vectorization\n",
    "    - Stemming of word\n",
    "    - Capitalization of word indicator\n",
    "    - Index of word within sentence (first word indicator, last word indicator, index, etc.)\n",
    "    - Stop word / common word indicator\n",
    "    - Punctuation\n",
    "    - Number vs. String"
   ]
  },
  {
   "cell_type": "markdown",
   "metadata": {},
   "source": [
    "Let's check for any **missing values** in our dataset. Return all columns containing missing values sorted by frequency:\n",
    "- Our output indicates that there are no missing values in our dataset"
   ]
  },
  {
   "cell_type": "code",
   "execution_count": 64,
   "metadata": {},
   "outputs": [
    {
     "data": {
      "text/html": [
       "<div>\n",
       "<style scoped>\n",
       "    .dataframe tbody tr th:only-of-type {\n",
       "        vertical-align: middle;\n",
       "    }\n",
       "\n",
       "    .dataframe tbody tr th {\n",
       "        vertical-align: top;\n",
       "    }\n",
       "\n",
       "    .dataframe thead th {\n",
       "        text-align: right;\n",
       "    }\n",
       "</style>\n",
       "<table border=\"1\" class=\"dataframe\">\n",
       "  <thead>\n",
       "    <tr style=\"text-align: right;\">\n",
       "      <th></th>\n",
       "      <th>Count</th>\n",
       "    </tr>\n",
       "  </thead>\n",
       "  <tbody>\n",
       "  </tbody>\n",
       "</table>\n",
       "</div>"
      ],
      "text/plain": [
       "Empty DataFrame\n",
       "Columns: [Count]\n",
       "Index: []"
      ]
     },
     "execution_count": 64,
     "metadata": {},
     "output_type": "execute_result"
    }
   ],
   "source": [
    "Missing_count = pd.DataFrame(df.isna().sum().sort_values(ascending=False),\n",
    "                             columns=['Count'])\n",
    "Missing_count[Missing_count['Count'] != 0]"
   ]
  },
  {
   "cell_type": "markdown",
   "metadata": {},
   "source": [
    "Let's take a quick look at our **Tag variable** and the relative frequencies:"
   ]
  },
  {
   "cell_type": "code",
   "execution_count": 65,
   "metadata": {},
   "outputs": [
    {
     "data": {
      "text/plain": [
       "Tag\n",
       "B-art       53\n",
       "B-eve       45\n",
       "B-geo     2070\n",
       "B-gpe     1230\n",
       "B-nat       20\n",
       "B-org     1237\n",
       "B-per     1107\n",
       "B-tim     1160\n",
       "I-art       34\n",
       "I-eve       37\n",
       "I-geo      414\n",
       "I-gpe       34\n",
       "I-nat        9\n",
       "I-org      926\n",
       "I-per     1234\n",
       "I-tim      334\n",
       "O        56217\n",
       "Name: Sentence #, dtype: int64"
      ]
     },
     "execution_count": 65,
     "metadata": {},
     "output_type": "execute_result"
    }
   ],
   "source": [
    "df.groupby('Tag').count().iloc[:,0]"
   ]
  },
  {
   "cell_type": "markdown",
   "metadata": {},
   "source": [
    "For this analysis, we will ignore the 'Beginning' (B) and 'Inside' (I) indicators and focus on the specific entity classes: geo, org, per, gpe, tim, art, eve, and nat. Therefore, I will remove the prefixes of 'I' and 'B' from our Tag variable."
   ]
  },
  {
   "cell_type": "code",
   "execution_count": 66,
   "metadata": {},
   "outputs": [],
   "source": [
    "def cut_y(x):\n",
    "    if x != \"O\":\n",
    "        return x[2:]\n",
    "    else:\n",
    "        return x\n",
    "\n",
    "df['Tag'] = df['Tag'].apply(lambda x: cut_y(x))"
   ]
  },
  {
   "cell_type": "markdown",
   "metadata": {},
   "source": [
    "Let's create a few visualizations to better understand our initial variables:"
   ]
  },
  {
   "cell_type": "code",
   "execution_count": 67,
   "metadata": {},
   "outputs": [
    {
     "data": {
      "text/plain": [
       "Text(0, 0.5, 'Count')"
      ]
     },
     "execution_count": 67,
     "metadata": {},
     "output_type": "execute_result"
    },
    {
     "data": {
      "image/png": "[encoded data removed]",
      "text/plain": [
       "<Figure size 1080x360 with 1 Axes>"
      ]
     },
     "metadata": {},
     "output_type": "display_data"
    }
   ],
   "source": [
    "# Word Frequency\n",
    "top_words = pd.DataFrame(df.groupby('Word')['Sentence #'].\\\n",
    "                            count().sort_values(ascending=False))[:30]\n",
    "plt.figure(figsize=(15,5))\n",
    "plt.bar(top_words.index,top_words['Sentence #'])\n",
    "plt.title(\"Top Most Common Words and Their Counts\")\n",
    "plt.xlabel(\"Word\")\n",
    "plt.ylabel(\"Count\")"
   ]
  },
  {
   "cell_type": "markdown",
   "metadata": {},
   "source": [
    "Our most common words are dominated by very common words, many of which are stop words. There are also punctuation symbols present."
   ]
  },
  {
   "cell_type": "code",
   "execution_count": 68,
   "metadata": {},
   "outputs": [
    {
     "data": {
      "text/plain": [
       "Text(0, 0.5, 'Count')"
      ]
     },
     "execution_count": 68,
     "metadata": {},
     "output_type": "execute_result"
    },
    {
     "data": {
      "image/png": "[encoded data removed]",
      "text/plain": [
       "<Figure size 1080x360 with 1 Axes>"
      ]
     },
     "metadata": {},
     "output_type": "display_data"
    }
   ],
   "source": [
    "# POS Frequency\n",
    "top_POS = pd.DataFrame(df.groupby('POS')['Sentence #'].\\\n",
    "                            count().sort_values(ascending=False))[:30]\n",
    "plt.figure(figsize=(15,5))\n",
    "plt.bar(top_POS.index,top_POS['Sentence #'])\n",
    "plt.title(\"Part of Speech Counts\")\n",
    "plt.xlabel(\"Part of Speech\")\n",
    "plt.ylabel(\"Count\")"
   ]
  },
  {
   "cell_type": "markdown",
   "metadata": {},
   "source": [
    "Our most common POS's are singular noun, proper noun, preposition, determiner, adjective, and plural noun, in that order. There are roughly 30 different POS's, but 10 of them make up the majority."
   ]
  },
  {
   "cell_type": "code",
   "execution_count": 69,
   "metadata": {},
   "outputs": [
    {
     "data": {
      "text/plain": [
       "Text(0, 0.5, 'Count')"
      ]
     },
     "execution_count": 69,
     "metadata": {},
     "output_type": "execute_result"
    },
    {
     "data": {
      "image/png": "[encoded data removed]",
      "text/plain": [
       "<Figure size 1080x360 with 1 Axes>"
      ]
     },
     "metadata": {},
     "output_type": "display_data"
    }
   ],
   "source": [
    "# Tag Frequency\n",
    "tag_counts = pd.DataFrame(df.groupby('Tag')['Sentence #'].\\\n",
    "                            count().sort_values(ascending=False))\n",
    "plt.figure(figsize=(15,5))\n",
    "plt.bar(tag_counts.index,tag_counts['Sentence #'])\n",
    "plt.title(\"Tag Counts\")\n",
    "plt.xlabel(\"Tag\")\n",
    "plt.ylabel(\"Count\")"
   ]
  },
  {
   "cell_type": "markdown",
   "metadata": {},
   "source": [
    "The 'O' tag represents roughly 85% of all words. This creates massive label imbalance, which we will need to keep our eye on during modeling. Let's examine the same distribution without the 'O' label:"
   ]
  },
  {
   "cell_type": "code",
   "execution_count": 70,
   "metadata": {},
   "outputs": [
    {
     "data": {
      "text/plain": [
       "Text(0, 0.5, 'Count')"
      ]
     },
     "execution_count": 70,
     "metadata": {},
     "output_type": "execute_result"
    },
    {
     "data": {
      "image/png": "[encoded data removed]",
      "text/plain": [
       "<Figure size 1080x360 with 1 Axes>"
      ]
     },
     "metadata": {},
     "output_type": "display_data"
    }
   ],
   "source": [
    "# Tag Frequency excluding 'O'\n",
    "tag_counts = pd.DataFrame(df.groupby('Tag')['Sentence #'].\\\n",
    "                            count().sort_values(ascending=False))[1:]\n",
    "plt.figure(figsize=(15,5))\n",
    "plt.bar(tag_counts.index,tag_counts['Sentence #'])\n",
    "plt.title(\"Tag Counts (excluding 'O')\")\n",
    "plt.xlabel(\"Tag\")\n",
    "plt.ylabel(\"Count\")"
   ]
  },
  {
   "cell_type": "markdown",
   "metadata": {},
   "source": [
    "The most common entities are Geographical Entity, Person, and Organization, followed by Time Indicator, and Geopolitical Entity. Artifact, Event, and Natural Phenomenon have very few instances. Even when excluding 'O', there is still significant class imbalance."
   ]
  },
  {
   "cell_type": "markdown",
   "metadata": {},
   "source": [
    "### Feature Engineering\n",
    "- During the following section, we will generate additional features to be used during modeling.\n",
    "\n",
    "- Note that during the modeling phase, the 2nd 'previous', and the 2nd 'next' word vectorizations did not improve the model, but added approximately 16K additional dimensions and thus added significant computational complexity, so these were discarded from the models."
   ]
  },
  {
   "cell_type": "code",
   "execution_count": 71,
   "metadata": {},
   "outputs": [
    {
     "data": {
      "text/html": [
       "<div>\n",
       "<style scoped>\n",
       "    .dataframe tbody tr th:only-of-type {\n",
       "        vertical-align: middle;\n",
       "    }\n",
       "\n",
       "    .dataframe tbody tr th {\n",
       "        vertical-align: top;\n",
       "    }\n",
       "\n",
       "    .dataframe thead th {\n",
       "        text-align: right;\n",
       "    }\n",
       "</style>\n",
       "<table border=\"1\" class=\"dataframe\">\n",
       "  <thead>\n",
       "    <tr style=\"text-align: right;\">\n",
       "      <th></th>\n",
       "      <th>Sentence #</th>\n",
       "      <th>Word</th>\n",
       "      <th>POS</th>\n",
       "      <th>Tag</th>\n",
       "    </tr>\n",
       "  </thead>\n",
       "  <tbody>\n",
       "    <tr>\n",
       "      <th>0</th>\n",
       "      <td>1.0</td>\n",
       "      <td>Thousands</td>\n",
       "      <td>NNS</td>\n",
       "      <td>O</td>\n",
       "    </tr>\n",
       "    <tr>\n",
       "      <th>1</th>\n",
       "      <td>1.0</td>\n",
       "      <td>of</td>\n",
       "      <td>IN</td>\n",
       "      <td>O</td>\n",
       "    </tr>\n",
       "    <tr>\n",
       "      <th>2</th>\n",
       "      <td>1.0</td>\n",
       "      <td>demonstrators</td>\n",
       "      <td>NNS</td>\n",
       "      <td>O</td>\n",
       "    </tr>\n",
       "    <tr>\n",
       "      <th>3</th>\n",
       "      <td>1.0</td>\n",
       "      <td>have</td>\n",
       "      <td>VBP</td>\n",
       "      <td>O</td>\n",
       "    </tr>\n",
       "    <tr>\n",
       "      <th>4</th>\n",
       "      <td>1.0</td>\n",
       "      <td>marched</td>\n",
       "      <td>VBN</td>\n",
       "      <td>O</td>\n",
       "    </tr>\n",
       "  </tbody>\n",
       "</table>\n",
       "</div>"
      ],
      "text/plain": [
       "  Sentence #           Word  POS Tag\n",
       "0        1.0      Thousands  NNS   O\n",
       "1        1.0             of   IN   O\n",
       "2        1.0  demonstrators  NNS   O\n",
       "3        1.0           have  VBP   O\n",
       "4        1.0        marched  VBN   O"
      ]
     },
     "execution_count": 71,
     "metadata": {},
     "output_type": "execute_result"
    }
   ],
   "source": [
    "df.head()"
   ]
  },
  {
   "cell_type": "code",
   "execution_count": 72,
   "metadata": {},
   "outputs": [],
   "source": [
    "# create a copy of our original raw word, which we will use for our baseline model\n",
    "df['Word_raw'] = df['Word'].copy()\n",
    "\n",
    "\n",
    "\n",
    "# start by removing all punctuation from words, which should make the steps that follow cleaner\n",
    "# create a dictionary of punctuation characters\n",
    "punctuation = dict.fromkeys(i for i in range(sys.maxunicode)\n",
    "                            if unicodedata.category(chr(i)).startswith('P'))\n",
    "# strip punctuation characters from each word\n",
    "df['Word'] = df['Word'].apply(lambda x: x.translate(punctuation))\n",
    "# df['Word'] = [i.translate(punctuation) for i in df['Word']]\n",
    "\n",
    "# extract the stem of the word\n",
    "porter = PorterStemmer()\n",
    "df['Word_stem'] = df['Word'].apply(lambda x: porter.stem(x))\n",
    "# df['Word_stem'] = [porter.stem(x) for x in df['Word']]\n",
    "\n",
    "\n",
    "\n",
    "# create shifted variables to represent prior two words and their respective POS,\n",
    "    # and next 2 words and their POS\n",
    "def create_shifted_vars(df, x):\n",
    "    # create temp vars of shifted (lagged/future) var\n",
    "    df['shift_sent'] = df['Sentence #'].shift(x) \n",
    "    df['shift_word'] = df['Word_stem'].shift(x)\n",
    "    df['shift_pos'] = df['POS'].shift(x)\n",
    "    def prev_word(i):\n",
    "        if df['Sentence #'][i] == df['shift_sent'][i]: # check if word is of same sentence as lagged var\n",
    "            return [df['shift_word'][i], df['shift_pos'][i]] # if so, return lagged/future var\n",
    "        else:\n",
    "            return ['NA','NA']\n",
    "    if x > 0: # specify whether lagged/future var is a previous var or future var for var naming purposes to follow\n",
    "        position = 'prev'\n",
    "    else:\n",
    "        position = 'next'\n",
    "    # now define and generate our lagged and future vars\n",
    "    df[position+str(x)+'_word'] = [prev_word(i)[0] for i in np.arange(df.shape[0])]\n",
    "    df[position+str(x)+'_pos'] = [prev_word(i)[1] for i in np.arange(df.shape[0])]\n",
    "    df = df.drop(['shift_sent','shift_word','shift_pos'], axis=1)\n",
    "    return df\n",
    "for i in [2,1,-1, -2]: # represents words for 2 prior, 1 prior, 1 future, and 2 future, respectively\n",
    "    df = create_shifted_vars(df,i)\n",
    "\n",
    "\n",
    "\n",
    "# create var to represent length of word\n",
    "df['word_len'] = df['Word'].apply(lambda x: len(x))\n",
    "df['word_len'] = df['word_len'] / np.max(df['word_len']) # normalize\n",
    "\n",
    "\n",
    "\n",
    "# create binary var to capture words that are digits\n",
    "df['digit_ind'] = df['Word'].apply(lambda x: np.sum(x.isdigit()))\n",
    "# df['digit_ind'] = [np.sum(i.isdigit()) for i in df['Word']]\n",
    "\n",
    "\n",
    "\n",
    "# create binary var to capture word beginning with upper case\n",
    "df['word_upper'] = df['Word'].apply(lambda x: np.sum(x.istitle()))\n",
    "# df['word_upper'] = [np.sum(i.istitle()) for i in df['Word']]\n",
    "\n",
    "\n",
    "\n",
    "# create binary var to capture where word is the first word of a sentence\n",
    "def first_word_ind(df):\n",
    "    df['shift_sent'] = df['Sentence #'].shift(1) # create temp var of 'Sentence #' shifted downwards\n",
    "    def check(i):\n",
    "        if df['Sentence #'][i] != df['shift_sent'][i]: # check if word sentence is same a shifted var\n",
    "            return 1 # if it's not, then it's the first word of sentence\n",
    "        else:\n",
    "            return 0\n",
    "    df['First_word'] = [check(i) for i in np.arange(df.shape[0])]\n",
    "    df = df.drop('shift_sent', axis=1)\n",
    "    return df\n",
    "df = first_word_ind(df)\n",
    "\n",
    "\n",
    "\n",
    "# create binary var to capture where word is the last word of a sentence\n",
    "def last_word_ind(df):\n",
    "    df['shift_sent'] = df['Sentence #'].shift(-1) # create temp var of 'Sentence #' shifted upwards\n",
    "    def check(i):\n",
    "        if df['Sentence #'][i] != df['shift_sent'][i]: # check if word sentence is same a shifted var\n",
    "            return 1 # if it's not, then it's the last word of sentence\n",
    "        else:\n",
    "            return 0\n",
    "    df['Last_word'] = [check(i) for i in np.arange(df.shape[0])]\n",
    "    df = df.drop('shift_sent', axis=1)\n",
    "    return df\n",
    "df = last_word_ind(df)\n",
    "\n",
    "\n",
    "\n",
    "# create an indicator te represent very common words\n",
    "stop_words = stopwords.words('english')\n",
    "def is_stop_word(x):\n",
    "    if x in stop_words:\n",
    "        return 1\n",
    "    else:\n",
    "        return 0\n",
    "df['stop_word'] = df['Word'].apply(lambda x: is_stop_word(x))"
   ]
  },
  {
   "cell_type": "code",
   "execution_count": 73,
   "metadata": {},
   "outputs": [
    {
     "data": {
      "text/html": [
       "<div>\n",
       "<style scoped>\n",
       "    .dataframe tbody tr th:only-of-type {\n",
       "        vertical-align: middle;\n",
       "    }\n",
       "\n",
       "    .dataframe tbody tr th {\n",
       "        vertical-align: top;\n",
       "    }\n",
       "\n",
       "    .dataframe thead th {\n",
       "        text-align: right;\n",
       "    }\n",
       "</style>\n",
       "<table border=\"1\" class=\"dataframe\">\n",
       "  <thead>\n",
       "    <tr style=\"text-align: right;\">\n",
       "      <th></th>\n",
       "      <th>Sentence #</th>\n",
       "      <th>Word</th>\n",
       "      <th>POS</th>\n",
       "      <th>Tag</th>\n",
       "      <th>Word_raw</th>\n",
       "      <th>Word_stem</th>\n",
       "      <th>prev2_word</th>\n",
       "      <th>prev2_pos</th>\n",
       "      <th>prev1_word</th>\n",
       "      <th>prev1_pos</th>\n",
       "      <th>next-1_word</th>\n",
       "      <th>next-1_pos</th>\n",
       "      <th>next-2_word</th>\n",
       "      <th>next-2_pos</th>\n",
       "      <th>word_len</th>\n",
       "      <th>digit_ind</th>\n",
       "      <th>word_upper</th>\n",
       "      <th>First_word</th>\n",
       "      <th>Last_word</th>\n",
       "      <th>stop_word</th>\n",
       "    </tr>\n",
       "  </thead>\n",
       "  <tbody>\n",
       "    <tr>\n",
       "      <th>0</th>\n",
       "      <td>1.0</td>\n",
       "      <td>Thousands</td>\n",
       "      <td>NNS</td>\n",
       "      <td>O</td>\n",
       "      <td>Thousands</td>\n",
       "      <td>thousand</td>\n",
       "      <td>NA</td>\n",
       "      <td>NA</td>\n",
       "      <td>NA</td>\n",
       "      <td>NA</td>\n",
       "      <td>of</td>\n",
       "      <td>IN</td>\n",
       "      <td>demonstr</td>\n",
       "      <td>NNS</td>\n",
       "      <td>0.36</td>\n",
       "      <td>0</td>\n",
       "      <td>1</td>\n",
       "      <td>1</td>\n",
       "      <td>0</td>\n",
       "      <td>0</td>\n",
       "    </tr>\n",
       "    <tr>\n",
       "      <th>1</th>\n",
       "      <td>1.0</td>\n",
       "      <td>of</td>\n",
       "      <td>IN</td>\n",
       "      <td>O</td>\n",
       "      <td>of</td>\n",
       "      <td>of</td>\n",
       "      <td>NA</td>\n",
       "      <td>NA</td>\n",
       "      <td>thousand</td>\n",
       "      <td>NNS</td>\n",
       "      <td>demonstr</td>\n",
       "      <td>NNS</td>\n",
       "      <td>have</td>\n",
       "      <td>VBP</td>\n",
       "      <td>0.08</td>\n",
       "      <td>0</td>\n",
       "      <td>0</td>\n",
       "      <td>0</td>\n",
       "      <td>0</td>\n",
       "      <td>1</td>\n",
       "    </tr>\n",
       "    <tr>\n",
       "      <th>2</th>\n",
       "      <td>1.0</td>\n",
       "      <td>demonstrators</td>\n",
       "      <td>NNS</td>\n",
       "      <td>O</td>\n",
       "      <td>demonstrators</td>\n",
       "      <td>demonstr</td>\n",
       "      <td>thousand</td>\n",
       "      <td>NNS</td>\n",
       "      <td>of</td>\n",
       "      <td>IN</td>\n",
       "      <td>have</td>\n",
       "      <td>VBP</td>\n",
       "      <td>march</td>\n",
       "      <td>VBN</td>\n",
       "      <td>0.52</td>\n",
       "      <td>0</td>\n",
       "      <td>0</td>\n",
       "      <td>0</td>\n",
       "      <td>0</td>\n",
       "      <td>0</td>\n",
       "    </tr>\n",
       "    <tr>\n",
       "      <th>3</th>\n",
       "      <td>1.0</td>\n",
       "      <td>have</td>\n",
       "      <td>VBP</td>\n",
       "      <td>O</td>\n",
       "      <td>have</td>\n",
       "      <td>have</td>\n",
       "      <td>of</td>\n",
       "      <td>IN</td>\n",
       "      <td>demonstr</td>\n",
       "      <td>NNS</td>\n",
       "      <td>march</td>\n",
       "      <td>VBN</td>\n",
       "      <td>through</td>\n",
       "      <td>IN</td>\n",
       "      <td>0.16</td>\n",
       "      <td>0</td>\n",
       "      <td>0</td>\n",
       "      <td>0</td>\n",
       "      <td>0</td>\n",
       "      <td>1</td>\n",
       "    </tr>\n",
       "    <tr>\n",
       "      <th>4</th>\n",
       "      <td>1.0</td>\n",
       "      <td>marched</td>\n",
       "      <td>VBN</td>\n",
       "      <td>O</td>\n",
       "      <td>marched</td>\n",
       "      <td>march</td>\n",
       "      <td>demonstr</td>\n",
       "      <td>NNS</td>\n",
       "      <td>have</td>\n",
       "      <td>VBP</td>\n",
       "      <td>through</td>\n",
       "      <td>IN</td>\n",
       "      <td>london</td>\n",
       "      <td>NNP</td>\n",
       "      <td>0.28</td>\n",
       "      <td>0</td>\n",
       "      <td>0</td>\n",
       "      <td>0</td>\n",
       "      <td>0</td>\n",
       "      <td>0</td>\n",
       "    </tr>\n",
       "  </tbody>\n",
       "</table>\n",
       "</div>"
      ],
      "text/plain": [
       "  Sentence #           Word  POS Tag       Word_raw Word_stem prev2_word  \\\n",
       "0        1.0      Thousands  NNS   O      Thousands  thousand         NA   \n",
       "1        1.0             of   IN   O             of        of         NA   \n",
       "2        1.0  demonstrators  NNS   O  demonstrators  demonstr   thousand   \n",
       "3        1.0           have  VBP   O           have      have         of   \n",
       "4        1.0        marched  VBN   O        marched     march   demonstr   \n",
       "\n",
       "  prev2_pos prev1_word prev1_pos next-1_word next-1_pos next-2_word  \\\n",
       "0        NA         NA        NA          of         IN    demonstr   \n",
       "1        NA   thousand       NNS    demonstr        NNS        have   \n",
       "2       NNS         of        IN        have        VBP       march   \n",
       "3        IN   demonstr       NNS       march        VBN     through   \n",
       "4       NNS       have       VBP     through         IN      london   \n",
       "\n",
       "  next-2_pos  word_len  digit_ind  word_upper  First_word  Last_word  \\\n",
       "0        NNS      0.36          0           1           1          0   \n",
       "1        VBP      0.08          0           0           0          0   \n",
       "2        VBN      0.52          0           0           0          0   \n",
       "3         IN      0.16          0           0           0          0   \n",
       "4        NNP      0.28          0           0           0          0   \n",
       "\n",
       "   stop_word  \n",
       "0          0  \n",
       "1          1  \n",
       "2          0  \n",
       "3          1  \n",
       "4          0  "
      ]
     },
     "execution_count": 73,
     "metadata": {},
     "output_type": "execute_result"
    }
   ],
   "source": [
    "df.head()"
   ]
  },
  {
   "cell_type": "markdown",
   "metadata": {},
   "source": [
    "Lastly, for all of our **prior word**, **current word**, and **next word** features, in addition to their respective **POS** features, we will vectorize our data and bring them together to finalize our dataset."
   ]
  },
  {
   "cell_type": "code",
   "execution_count": 77,
   "metadata": {},
   "outputs": [],
   "source": [
    "# Vectorize Words\n",
    "count = CountVectorizer(stop_words=stop_words, max_features=1000)\n",
    "bag_of_words = count.fit_transform(df['Word_raw']).toarray()\n",
    "\n",
    "# Vectorize Word_stem\n",
    "count01 = CountVectorizer(stop_words=stop_words, max_features=1000)\n",
    "word_vec = count01.fit_transform(df['Word_stem']).toarray()\n",
    "\n",
    "# Vectorize POS\n",
    "count02 = CountVectorizer()\n",
    "pos_vec = count02.fit_transform(df['POS']).toarray()\n",
    "\n",
    "# Vectorize prev1_word\n",
    "count03 = CountVectorizer(max_features=150)\n",
    "prev1_word_vec = count03.fit_transform(df['prev1_word']).toarray()\n",
    "\n",
    "# Vectorize prev1_pos\n",
    "count04 = CountVectorizer()\n",
    "prev1_pos_vec = count04.fit_transform(df['prev1_pos']).toarray()\n",
    "\n",
    "# Vectorize prev2_word\n",
    "count05 = CountVectorizer(max_features=150)\n",
    "prev2_word_vec = count05.fit_transform(df['prev2_word']).toarray()\n",
    "\n",
    "# Vectorize prev2_pos\n",
    "count06 = CountVectorizer()\n",
    "prev2_pos_vec = count06.fit_transform(df['prev2_pos']).toarray()\n",
    "\n",
    "# Vectorize next1_word\n",
    "count07 = CountVectorizer(max_features=150)\n",
    "next1_word_vec = count07.fit_transform(df['next-1_word']).toarray()\n",
    "\n",
    "# Vectorize next1_pos\n",
    "count08 = CountVectorizer()\n",
    "next1_pos_vec = count08.fit_transform(df['next-1_pos']).toarray()\n",
    "\n",
    "# Vectorize next2_word\n",
    "count09 = CountVectorizer(max_features=150)\n",
    "next2_word_vec = count09.fit_transform(df['next-2_word']).toarray()\n",
    "\n",
    "# Vectorize next2_pos\n",
    "count10 = CountVectorizer()\n",
    "next2_pos_vec = count10.fit_transform(df['next-2_pos']).toarray()"
   ]
  },
  {
   "cell_type": "markdown",
   "metadata": {},
   "source": [
    "At this stage, we will designate a final test set to pull out and put aside until the very end, as well as create training and validation sets."
   ]
  },
  {
   "cell_type": "code",
   "execution_count": 126,
   "metadata": {},
   "outputs": [],
   "source": [
    "np.random.seed(1)\n",
    "group_indices = np.arange(1,np.max(df['Sentence #'].apply(lambda x: float(x)))) # create index vector\n",
    "np.random.shuffle(group_indices) # shuffle index vector\n",
    "\n",
    "# create index vectors to represent test, validation, and train groups\n",
    "test_indices, validation_indices, train_indices = np.split(group_indices,\n",
    "                                                  [int(len(group_indices)*.1),\n",
    "                                                   int(len(group_indices)*.3)])"
   ]
  },
  {
   "cell_type": "markdown",
   "metadata": {},
   "source": [
    "Our train, validation, and test indices will then get applied to the various feature combinations that will be used in the modeling section:"
   ]
  },
  {
   "cell_type": "code",
   "execution_count": 127,
   "metadata": {},
   "outputs": [],
   "source": [
    "def translate_group(x):\n",
    "    if float(x) in test_indices:\n",
    "        return 'test'\n",
    "    elif float(x) in validation_indices:\n",
    "        return 'validation'\n",
    "    else:\n",
    "        return 'train'\n",
    "\n",
    "df['Model_group'] = df['Sentence #'].apply(lambda x: translate_group(x))"
   ]
  },
  {
   "cell_type": "code",
   "execution_count": 141,
   "metadata": {},
   "outputs": [],
   "source": [
    "# Originally provided data (for baseline model)\n",
    "original_X = np.hstack((bag_of_words,\n",
    "                        pos_vec,\n",
    "                       df['Model_group'][:,np.newaxis]))\n",
    "orig_X_test = original_X[original_X[:,-1] == 'test'][:,:-1]\n",
    "orig_X_validation = original_X[original_X[:,-1] == 'validation'][:,:-1]\n",
    "orig_X_train = original_X[original_X[:,-1] == 'train'][:,:-1]\n",
    "\n",
    "\n",
    "# All data\n",
    "all_X = np.hstack((word_vec,\n",
    "                   pos_vec,\n",
    "                   prev1_word_vec,\n",
    "                   prev1_pos_vec,\n",
    "#                    prev2_word_vec,\n",
    "                   prev2_pos_vec,\n",
    "                   next1_word_vec,\n",
    "                   next1_pos_vec,\n",
    "#                    next2_word_vec,\n",
    "                   next2_pos_vec,\n",
    "                   df['word_len'][:,np.newaxis],\n",
    "                   df['word_upper'][:,np.newaxis],\n",
    "                   df['digit_ind'][:,np.newaxis],\n",
    "                   df['First_word'][:,np.newaxis],\n",
    "                   df['stop_word'][:,np.newaxis],\n",
    "                   df['Model_group'][:,np.newaxis]))\n",
    "all_X_test = all_X[all_X[:,-1] == 'test'][:,:-1]\n",
    "all_X_validation = all_X[all_X[:,-1] == 'validation'][:,:-1]\n",
    "all_X_train = all_X[all_X[:,-1] == 'train'][:,:-1]\n",
    "\n",
    "\n",
    "# no word vecs, POS and indicator vars only (significanly fewer dimensions)\n",
    "pos_X = np.hstack((pos_vec,\n",
    "                   prev1_pos_vec,\n",
    "                   prev2_pos_vec,\n",
    "                   next1_pos_vec,\n",
    "                   next2_pos_vec,\n",
    "                   df['word_len'][:,np.newaxis],\n",
    "                   df['word_upper'][:,np.newaxis],\n",
    "                   df['digit_ind'][:,np.newaxis],\n",
    "                   df['First_word'][:,np.newaxis],\n",
    "                   df['stop_word'][:,np.newaxis],\n",
    "                   df['Model_group'][:,np.newaxis]))\n",
    "pos_X_test = pos_X[pos_X[:,-1] == 'test'][:,:-1]\n",
    "pos_X_validation = pos_X[pos_X[:,-1] == 'validation'][:,:-1]\n",
    "pos_X_train = pos_X[pos_X[:,-1] == 'train'][:,:-1]\n",
    "\n",
    "\n",
    "# target feature\n",
    "y_test = df['Tag'][df['Model_group'] == 'test'].values\n",
    "y_validation = df['Tag'][df['Model_group'] == 'validation'].values\n",
    "y_train = df['Tag'][df['Model_group'] == 'train'].values"
   ]
  },
  {
   "cell_type": "code",
   "execution_count": 142,
   "metadata": {},
   "outputs": [
    {
     "name": "stdout",
     "output_type": "stream",
     "text": [
      "Number of features for baseline model:  1034\n",
      "Number of features for using all data:  1474\n",
      "Number of features excluding word vectorizations:  174\n"
     ]
    }
   ],
   "source": [
    "print(\"Number of features for baseline model: \", original_X.shape[1])\n",
    "print(\"Number of features for using all data: \", all_X.shape[1])\n",
    "print(\"Number of features excluding word vectorizations: \", pos_X.shape[1])"
   ]
  },
  {
   "cell_type": "markdown",
   "metadata": {},
   "source": [
    "# Modeling"
   ]
  },
  {
   "cell_type": "markdown",
   "metadata": {},
   "source": [
    "### Baseline Model:\n",
    "- We will start with an **SVM** approach, as SVMs are often appropriate for text-based classification and they scale nicely to very high dimensions.\n",
    "\n",
    "**1) Linear SVC with only 'Word' and 'POS' Vectorizations**\n",
    "- To set a baseline performance, we will use a Linear SVM model with default parameters using only the original Vectorized words and their part of speech as our features. This way, we can also isolate and measure our model improvement through the impact of the feature enginnering steps.\n",
    "\n",
    "**Results:**\n",
    "- Overall Accuracy = 0.941\n",
    "- Macro F1-score: 0.515\n",
    "\n",
    "The strength of our overall accuracy and f1-score is driven up by the 'O' class, while our Named Entity performance is significantly weaker. Since our priority is identifying Named Entities, the macro F1-score (unweighted average of all F1-Scores) will be our metric of focus."
   ]
  },
  {
   "cell_type": "code",
   "execution_count": 138,
   "metadata": {},
   "outputs": [
    {
     "name": "stdout",
     "output_type": "stream",
     "text": [
      "Overall Accuracy:  0.9407765523492975\n",
      "Macro F1-Score:  0.5152333614670116\n"
     ]
    },
    {
     "name": "stderr",
     "output_type": "stream",
     "text": [
      "C:\\Users\\RHedg\\.conda\\envs\\opencv\\lib\\site-packages\\sklearn\\metrics\\classification.py:1143: UndefinedMetricWarning: F-score is ill-defined and being set to 0.0 in labels with no predicted samples.\n",
      "  'precision', 'predicted', average, warn_for)\n"
     ]
    }
   ],
   "source": [
    "svm = LinearSVC()\n",
    "svm.fit(orig_X_train,y_train)\n",
    "preds = svm.predict(orig_X_validation)\n",
    "baseline_acc = accuracy_score(y_validation, preds)\n",
    "baseline_f1 = f1_score(y_validation, preds, average='macro')\n",
    "print(\"Overall Accuracy: \", baseline_acc)\n",
    "print(\"Macro F1-Score: \", baseline_f1)"
   ]
  },
  {
   "cell_type": "code",
   "execution_count": 139,
   "metadata": {},
   "outputs": [
    {
     "name": "stdout",
     "output_type": "stream",
     "text": [
      "              precision    recall  f1-score   support\n",
      "\n",
      "           O       0.98      1.00      0.99     11290\n",
      "         art       0.00      0.00      0.00        13\n",
      "         eve       0.83      0.22      0.34        23\n",
      "         geo       0.77      0.57      0.66       500\n",
      "         gpe       0.91      0.55      0.68       267\n",
      "         nat       0.00      0.00      0.00         8\n",
      "         org       0.77      0.44      0.56       395\n",
      "         per       0.51      0.96      0.67       460\n",
      "         tim       0.96      0.60      0.74       282\n",
      "\n",
      "   micro avg       0.94      0.94      0.94     13238\n",
      "   macro avg       0.64      0.48      0.52     13238\n",
      "weighted avg       0.95      0.94      0.94     13238\n",
      "\n"
     ]
    },
    {
     "name": "stderr",
     "output_type": "stream",
     "text": [
      "C:\\Users\\RHedg\\.conda\\envs\\opencv\\lib\\site-packages\\sklearn\\metrics\\classification.py:1143: UndefinedMetricWarning: Precision and F-score are ill-defined and being set to 0.0 in labels with no predicted samples.\n",
      "  'precision', 'predicted', average, warn_for)\n",
      "C:\\Users\\RHedg\\.conda\\envs\\opencv\\lib\\site-packages\\sklearn\\metrics\\classification.py:1143: UndefinedMetricWarning: Precision and F-score are ill-defined and being set to 0.0 in labels with no predicted samples.\n",
      "  'precision', 'predicted', average, warn_for)\n",
      "C:\\Users\\RHedg\\.conda\\envs\\opencv\\lib\\site-packages\\sklearn\\metrics\\classification.py:1143: UndefinedMetricWarning: Precision and F-score are ill-defined and being set to 0.0 in labels with no predicted samples.\n",
      "  'precision', 'predicted', average, warn_for)\n"
     ]
    }
   ],
   "source": [
    "print(classification_report(y_validation, preds))"
   ]
  },
  {
   "cell_type": "markdown",
   "metadata": {},
   "source": [
    "### Improved Models:\n",
    "**2) Linear SVC with Additional Generated Features**\n",
    "- Here, we will still use the default parameters of a Linear SVC, however now we will include our newly engineered features. This will allow us to isolate the impact of simply creating and adding the new features.\n",
    "\n",
    "**Results:**\n",
    "- Overall Accuracy = 0.960 (improvement of 1.9 % points over baseline)\n",
    "- Macro F1-score: 0.598 (improvement of 8.3 % points over baseline)"
   ]
  },
  {
   "cell_type": "code",
   "execution_count": 143,
   "metadata": {},
   "outputs": [
    {
     "name": "stdout",
     "output_type": "stream",
     "text": [
      "Overall Accuracy:  0.9599637407463363\n",
      "Macro F1-Score:  0.5980913866671917\n"
     ]
    }
   ],
   "source": [
    "svm = LinearSVC()\n",
    "svm.fit(all_X_train,y_train)\n",
    "preds = svm.predict(all_X_validation)\n",
    "add_features_acc = accuracy_score(y_validation, preds)\n",
    "add_features_f1 = f1_score(y_validation, preds, average='macro')\n",
    "print(\"Overall Accuracy: \", add_features_acc)\n",
    "print(\"Macro F1-Score: \", add_features_f1)"
   ]
  },
  {
   "cell_type": "code",
   "execution_count": 144,
   "metadata": {},
   "outputs": [
    {
     "name": "stdout",
     "output_type": "stream",
     "text": [
      "              precision    recall  f1-score   support\n",
      "\n",
      "           O       0.99      0.99      0.99     11290\n",
      "         art       0.00      0.00      0.00        13\n",
      "         eve       0.69      0.39      0.50        23\n",
      "         geo       0.74      0.83      0.78       500\n",
      "         gpe       0.84      0.69      0.76       267\n",
      "         nat       0.00      0.00      0.00         8\n",
      "         org       0.77      0.63      0.69       395\n",
      "         per       0.81      0.90      0.85       460\n",
      "         tim       0.89      0.73      0.80       282\n",
      "\n",
      "   micro avg       0.96      0.96      0.96     13238\n",
      "   macro avg       0.64      0.57      0.60     13238\n",
      "weighted avg       0.96      0.96      0.96     13238\n",
      "\n"
     ]
    }
   ],
   "source": [
    "print(classification_report(y_validation,preds))"
   ]
  },
  {
   "cell_type": "markdown",
   "metadata": {},
   "source": [
    "**3) SVC with tuned missclassification penalty parameter**\n",
    "- A variety of SVM variations were explored, including the use of RBF kernel transformations (with and without PCA Dimension Reduction beforehand) and class-specific class-weighted C error parameters to vary the penalty for missclassification depending on class size (penalize missclassification of smaller class sizes more heavily). However, with the added computational complexity combined with limited to no added predictive value, it was decided to simply tune a single universal missclassification penalty parameter for the final SVM.\n",
    "\n",
    "**Results:**\n",
    "- Overall Accuracy = 0.960 (improvement of 1.6 % points over baseline)\n",
    "- Macro F1-score: 0.600 (improvement of 8.5 % points over baseline)\n",
    "\n",
    "\n",
    "Note that a few of our smaller Named Entities remain difficult to classify with high recall (Artifact, Event, Natural Phenomenon). Using our Confusion Matrix, we can see that many of the instances where we predicted a word to be outside of a named entity, it was in fact an Organization, Time Indicator, or Geographical Entity. Additionally, for many words that were predicted to be a Geographical Entity, they were in fact a Geopolitical Entity or an Organization."
   ]
  },
  {
   "cell_type": "markdown",
   "metadata": {},
   "source": [
    "Below we will tune our error penalty parameter using cross validation:"
   ]
  },
  {
   "cell_type": "code",
   "execution_count": 145,
   "metadata": {},
   "outputs": [
    {
     "name": "stdout",
     "output_type": "stream",
     "text": [
      "0.1\n"
     ]
    },
    {
     "name": "stderr",
     "output_type": "stream",
     "text": [
      "C:\\Users\\RHedg\\.conda\\envs\\opencv\\lib\\site-packages\\sklearn\\metrics\\classification.py:1143: UndefinedMetricWarning: F-score is ill-defined and being set to 0.0 in labels with no predicted samples.\n",
      "  'precision', 'predicted', average, warn_for)\n"
     ]
    },
    {
     "name": "stdout",
     "output_type": "stream",
     "text": [
      "0.2\n"
     ]
    },
    {
     "name": "stderr",
     "output_type": "stream",
     "text": [
      "C:\\Users\\RHedg\\.conda\\envs\\opencv\\lib\\site-packages\\sklearn\\metrics\\classification.py:1143: UndefinedMetricWarning: F-score is ill-defined and being set to 0.0 in labels with no predicted samples.\n",
      "  'precision', 'predicted', average, warn_for)\n"
     ]
    },
    {
     "name": "stdout",
     "output_type": "stream",
     "text": [
      "0.3\n"
     ]
    },
    {
     "name": "stderr",
     "output_type": "stream",
     "text": [
      "C:\\Users\\RHedg\\.conda\\envs\\opencv\\lib\\site-packages\\sklearn\\metrics\\classification.py:1143: UndefinedMetricWarning: F-score is ill-defined and being set to 0.0 in labels with no predicted samples.\n",
      "  'precision', 'predicted', average, warn_for)\n"
     ]
    },
    {
     "name": "stdout",
     "output_type": "stream",
     "text": [
      "0.4\n"
     ]
    },
    {
     "name": "stderr",
     "output_type": "stream",
     "text": [
      "C:\\Users\\RHedg\\.conda\\envs\\opencv\\lib\\site-packages\\sklearn\\metrics\\classification.py:1143: UndefinedMetricWarning: F-score is ill-defined and being set to 0.0 in labels with no predicted samples.\n",
      "  'precision', 'predicted', average, warn_for)\n"
     ]
    },
    {
     "name": "stdout",
     "output_type": "stream",
     "text": [
      "0.5\n"
     ]
    },
    {
     "name": "stderr",
     "output_type": "stream",
     "text": [
      "C:\\Users\\RHedg\\.conda\\envs\\opencv\\lib\\site-packages\\sklearn\\metrics\\classification.py:1143: UndefinedMetricWarning: F-score is ill-defined and being set to 0.0 in labels with no predicted samples.\n",
      "  'precision', 'predicted', average, warn_for)\n"
     ]
    },
    {
     "name": "stdout",
     "output_type": "stream",
     "text": [
      "0.6\n"
     ]
    },
    {
     "name": "stderr",
     "output_type": "stream",
     "text": [
      "C:\\Users\\RHedg\\.conda\\envs\\opencv\\lib\\site-packages\\sklearn\\metrics\\classification.py:1143: UndefinedMetricWarning: F-score is ill-defined and being set to 0.0 in labels with no predicted samples.\n",
      "  'precision', 'predicted', average, warn_for)\n"
     ]
    },
    {
     "name": "stdout",
     "output_type": "stream",
     "text": [
      "0.7\n",
      "0.8\n",
      "0.9\n",
      "1.0\n"
     ]
    }
   ],
   "source": [
    "penalty_params = [.1, .2, .3, .4, .5, .6, .7, .8, .9, 1.0]\n",
    "scores = np.ones((2))\n",
    "for i in np.array(penalty_params):\n",
    "    print(i)\n",
    "    svm = LinearSVC(C=i)\n",
    "    svm.fit(all_X_train,y_train)\n",
    "    preds = svm.predict(all_X_validation)\n",
    "    scores = np.vstack((scores,np.array([accuracy_score(y_validation, preds),\n",
    "                                        f1_score(y_validation, preds, average='macro')])))\n"
   ]
  },
  {
   "cell_type": "code",
   "execution_count": 146,
   "metadata": {},
   "outputs": [
    {
     "data": {
      "text/plain": [
       "Text(0.5, 1.0, 'Average F1-Score by Penalty Parameter')"
      ]
     },
     "execution_count": 146,
     "metadata": {},
     "output_type": "execute_result"
    },
    {
     "data": {
      "image/png": "[encoded data removed]",
      "text/plain": [
       "<Figure size 720x252 with 2 Axes>"
      ]
     },
     "metadata": {},
     "output_type": "display_data"
    }
   ],
   "source": [
    "plt.figure(figsize=(10, 3.5))\n",
    "\n",
    "plt.subplot(1,2,1)\n",
    "plt.plot(penalty_params,scores[1:,0])\n",
    "plt.title(\"Overall Accuracy by Penalty Parameter\")\n",
    "\n",
    "plt.subplot(1,2,2)\n",
    "plt.plot(penalty_params,scores[1:,1], c='orange')\n",
    "plt.title(\"Average F1-Score by Penalty Parameter\")"
   ]
  },
  {
   "cell_type": "markdown",
   "metadata": {},
   "source": [
    "There appears to be a clear peak performance at C=0.5, so we will refit our SVM with this specification."
   ]
  },
  {
   "cell_type": "code",
   "execution_count": 147,
   "metadata": {},
   "outputs": [
    {
     "name": "stdout",
     "output_type": "stream",
     "text": [
      "Overall Accuracy:  0.9603414413053332\n",
      "Macro F1-Score:  0.6002306437623588\n"
     ]
    },
    {
     "name": "stderr",
     "output_type": "stream",
     "text": [
      "C:\\Users\\RHedg\\.conda\\envs\\opencv\\lib\\site-packages\\sklearn\\metrics\\classification.py:1143: UndefinedMetricWarning: F-score is ill-defined and being set to 0.0 in labels with no predicted samples.\n",
      "  'precision', 'predicted', average, warn_for)\n"
     ]
    }
   ],
   "source": [
    "svm = LinearSVC(C=.5) # use 0.3 since Macro F1-Score is our priority\n",
    "svm.fit(all_X_train,y_train)\n",
    "preds = svm.predict(all_X_validation)\n",
    "all_features_acc = accuracy_score(y_validation, preds)\n",
    "all_features_f1 = f1_score(y_validation, preds, average='macro')\n",
    "print(\"Overall Accuracy: \", all_features_acc)\n",
    "print(\"Macro F1-Score: \", all_features_f1)"
   ]
  },
  {
   "cell_type": "code",
   "execution_count": 148,
   "metadata": {},
   "outputs": [
    {
     "name": "stdout",
     "output_type": "stream",
     "text": [
      "              precision    recall  f1-score   support\n",
      "\n",
      "           O       0.99      1.00      0.99     11290\n",
      "         art       0.00      0.00      0.00        13\n",
      "         eve       0.75      0.39      0.51        23\n",
      "         geo       0.75      0.84      0.79       500\n",
      "         gpe       0.86      0.68      0.76       267\n",
      "         nat       0.00      0.00      0.00         8\n",
      "         org       0.77      0.63      0.69       395\n",
      "         per       0.80      0.90      0.85       460\n",
      "         tim       0.90      0.73      0.81       282\n",
      "\n",
      "   micro avg       0.96      0.96      0.96     13238\n",
      "   macro avg       0.65      0.57      0.60     13238\n",
      "weighted avg       0.96      0.96      0.96     13238\n",
      "\n"
     ]
    },
    {
     "name": "stderr",
     "output_type": "stream",
     "text": [
      "C:\\Users\\RHedg\\.conda\\envs\\opencv\\lib\\site-packages\\sklearn\\metrics\\classification.py:1143: UndefinedMetricWarning: Precision and F-score are ill-defined and being set to 0.0 in labels with no predicted samples.\n",
      "  'precision', 'predicted', average, warn_for)\n",
      "C:\\Users\\RHedg\\.conda\\envs\\opencv\\lib\\site-packages\\sklearn\\metrics\\classification.py:1143: UndefinedMetricWarning: Precision and F-score are ill-defined and being set to 0.0 in labels with no predicted samples.\n",
      "  'precision', 'predicted', average, warn_for)\n",
      "C:\\Users\\RHedg\\.conda\\envs\\opencv\\lib\\site-packages\\sklearn\\metrics\\classification.py:1143: UndefinedMetricWarning: Precision and F-score are ill-defined and being set to 0.0 in labels with no predicted samples.\n",
      "  'precision', 'predicted', average, warn_for)\n"
     ]
    }
   ],
   "source": [
    "print(classification_report(y_validation,preds))"
   ]
  },
  {
   "cell_type": "code",
   "execution_count": 149,
   "metadata": {},
   "outputs": [
    {
     "data": {
      "text/plain": [
       "Text(89.18, 0.5, 'Predicted Entity')"
      ]
     },
     "execution_count": 149,
     "metadata": {},
     "output_type": "execute_result"
    },
    {
     "data": {
      "image/png": "[encoded data removed]",
      "text/plain": [
       "<Figure size 432x288 with 1 Axes>"
      ]
     },
     "metadata": {},
     "output_type": "display_data"
    }
   ],
   "source": [
    "conf_mat = confusion_matrix(y_validation,preds)\n",
    "sns.heatmap(conf_mat.T, square=True, annot=True, fmt='d', cbar=False,\n",
    "           xticklabels=np.unique(y_validation),\n",
    "           yticklabels=np.unique(y_validation))\n",
    "plt.xlabel('True Entity')\n",
    "plt.ylabel('Predicted Entity')"
   ]
  },
  {
   "cell_type": "markdown",
   "metadata": {},
   "source": [
    "Let's now test our final model on our final testing set:\n",
    "\n",
    "**Results:**\n",
    "- Overall Accuracy = 0.959\n",
    "- Macro F1-score: 0.615\n",
    "\n",
    "Note that due to small sample size of our final test set, the Artifact Entity resulted in no predictions, defaulting the F1-Score to 0.0 for Artifact, and thus driving down our Macro F1-Score. Overall, our scores are slightly below that of our validation sets. This may be due to the randomization of the sample size, but it may also indicate minor information leakage. Regardless, this small gap is not large enough to be of concern to me.\n"
   ]
  },
  {
   "cell_type": "code",
   "execution_count": 33,
   "metadata": {},
   "outputs": [
    {
     "name": "stdout",
     "output_type": "stream",
     "text": [
      "Overall Accuracy:  0.9594921402660218\n",
      "Macro F1-Score:  0.6145609141938446\n"
     ]
    },
    {
     "name": "stderr",
     "output_type": "stream",
     "text": [
      "C:\\Users\\RHedg\\.conda\\envs\\opencv\\lib\\site-packages\\sklearn\\metrics\\classification.py:1143: UndefinedMetricWarning: F-score is ill-defined and being set to 0.0 in labels with no predicted samples.\n",
      "  'precision', 'predicted', average, warn_for)\n"
     ]
    }
   ],
   "source": [
    "preds = svm.predict(all_X_test)\n",
    "final_test_acc = accuracy_score(y_test, preds)\n",
    "final_test_f1 = f1_score(y_test, preds, average='macro')\n",
    "print(\"Overall Accuracy: \", final_test_acc)\n",
    "print(\"Macro F1-Score: \", final_test_f1)"
   ]
  },
  {
   "cell_type": "code",
   "execution_count": 34,
   "metadata": {},
   "outputs": [
    {
     "name": "stdout",
     "output_type": "stream",
     "text": [
      "              precision    recall  f1-score   support\n",
      "\n",
      "           O       0.99      1.00      0.99      5619\n",
      "         art       0.00      0.00      0.00         9\n",
      "         eve       0.33      0.20      0.25         5\n",
      "         geo       0.69      0.85      0.76       253\n",
      "         gpe       0.92      0.68      0.78       147\n",
      "         nat       0.50      0.25      0.33         4\n",
      "         org       0.79      0.63      0.70       222\n",
      "         per       0.79      0.88      0.83       208\n",
      "         tim       0.99      0.79      0.88       149\n",
      "\n",
      "   micro avg       0.96      0.96      0.96      6616\n",
      "   macro avg       0.67      0.59      0.61      6616\n",
      "weighted avg       0.96      0.96      0.96      6616\n",
      "\n"
     ]
    },
    {
     "name": "stderr",
     "output_type": "stream",
     "text": [
      "C:\\Users\\RHedg\\.conda\\envs\\opencv\\lib\\site-packages\\sklearn\\metrics\\classification.py:1143: UndefinedMetricWarning: Precision and F-score are ill-defined and being set to 0.0 in labels with no predicted samples.\n",
      "  'precision', 'predicted', average, warn_for)\n",
      "C:\\Users\\RHedg\\.conda\\envs\\opencv\\lib\\site-packages\\sklearn\\metrics\\classification.py:1143: UndefinedMetricWarning: Precision and F-score are ill-defined and being set to 0.0 in labels with no predicted samples.\n",
      "  'precision', 'predicted', average, warn_for)\n",
      "C:\\Users\\RHedg\\.conda\\envs\\opencv\\lib\\site-packages\\sklearn\\metrics\\classification.py:1143: UndefinedMetricWarning: Precision and F-score are ill-defined and being set to 0.0 in labels with no predicted samples.\n",
      "  'precision', 'predicted', average, warn_for)\n"
     ]
    }
   ],
   "source": [
    "print(classification_report(y_test,preds))"
   ]
  },
  {
   "cell_type": "markdown",
   "metadata": {},
   "source": [
    "### Final Notes on Modeling:\n",
    "\n",
    "While SVM was well-suited for this classification task due to the high-dimensional data, various other modeling approaches were explored during this process, most of which did not perform nearly to the level of the SVM. Notably, tree-based methods such as Random Forests and Tree Boosting using xgboost performed at a significantly inferior level. Multinomial Logistic Regression outperformed tree-based methods, but was still weaker than SVM.\n",
    "\n",
    "Finally, a simple Neural Net approach using dense layers was explored. It was found that this model very quickly overfits the data when using multiple hidden layers. Additionally, a neural net with only one hidden layer would be somewhat redundant of our SVM approach, which is essentially a 1-layer neural net. Even with a non-linear activation function, this would be roughly equivalent to an SVM using the kernel trick, which was attempted and produced insignificant results."
   ]
  },
  {
   "cell_type": "markdown",
   "metadata": {},
   "source": [
    "# Conclusions and Next Steps\n",
    "The final SVM model performed comparatively well in classifying Named Entities from words in our dataset with an overall accuracy of 96%.\n",
    "\n",
    "#### There are a few additional steps that could be taken to improve our model moving forward:\n",
    "- Extract additional features from our data (use combinations of 2+ words, sentence length, word index within sentence etc.).\n",
    "- Condense the feature set of vectorized words/prior words/next words into a more concise, and potentially more meaningful feature set. A few ideas to consider are to use word embeddings, PCA, or we can use Random Forests to identify and remove words of trivial value to the model.\n",
    "- Acquire a larger data set.\n",
    "- Explore additional architectures and functional forms of neural nets. Notably, an LSTM approach could more effectively extract context from prior words in a sentence."
   ]
  },
  {
   "cell_type": "code",
   "execution_count": null,
   "metadata": {},
   "outputs": [],
   "source": []
  },
  {
   "cell_type": "markdown",
   "metadata": {},
   "source": [
    "# PS: An Attempt Using XGBoost\n",
    "\n",
    "In the following section, we attempt to apply the XGBoost algorithm on our data. Since GBM will be painfully slow (if it will run at all) on a feature matrix of ~1500 columns, we still begin by reducing our dimension to 150 using Principle Component Analysis."
   ]
  },
  {
   "cell_type": "code",
   "execution_count": 151,
   "metadata": {},
   "outputs": [],
   "source": [
    "import xgboost as xgb"
   ]
  },
  {
   "cell_type": "code",
   "execution_count": 173,
   "metadata": {},
   "outputs": [],
   "source": [
    "pca = PCA(n_components=150, whiten=True)\n",
    "pca.fit(all_X_train)\n",
    "pca_all_X_train = pca.transform(all_X_train)\n",
    "pca_all_X_validation = pca.transform(all_X_validation)"
   ]
  },
  {
   "cell_type": "markdown",
   "metadata": {},
   "source": [
    "Now we will conduct a round of parameter tuning on our XGBoost model. Note that we only will fit 10 trees at this point, in order to reduce the time complexity of this process."
   ]
  },
  {
   "cell_type": "code",
   "execution_count": 175,
   "metadata": {},
   "outputs": [
    {
     "name": "stdout",
     "output_type": "stream",
     "text": [
      "mean_test_score +/ std_test_score, {params}\n",
      "*0.929 +/- 0.00 {'max_depth': 15}\n",
      " 0.929 +/- 0.00 {'max_depth': 20}\n",
      "XGBClassifier(base_score=0.5, booster='gbtree', colsample_bylevel=1,\n",
      "       colsample_bytree=1, gamma=0.4, learning_rate=0.1, max_delta_step=0,\n",
      "       max_depth=15, min_child_weight=4, missing=None, n_estimators=10,\n",
      "       n_jobs=1, nthread=None, objective='multi:softprob', random_state=0,\n",
      "       reg_alpha=0, reg_lambda=1, scale_pos_weight=1, seed=None,\n",
      "       silent=True, subsample=1)\n"
     ]
    }
   ],
   "source": [
    "max_depth = list([15, 20])\n",
    "min_child_weight = list([1, 4])\n",
    "gamma = list([.1, .4])\n",
    "\n",
    "# define grid\n",
    "param_grid = dict(max_depth=max_depth)\n",
    "\n",
    "reg = xgb.XGBClassifier(n_estimators=10, gamma=.4, min_child_weight=4)\n",
    "grid = GridSearchCV(reg, param_grid, cv=2, scoring='accuracy', return_train_score=False, n_jobs=-1)\n",
    "grid.fit(pca_all_X_train, y_train)\n",
    "\n",
    "def report_results(grid):\n",
    "    cv_keys = ('mean_test_score', 'std_test_score', 'params')\n",
    "    print('mean_test_score +/ std_test_score, {params}') \n",
    "    for r, _ in enumerate(grid.cv_results_['mean_test_score']):\n",
    "        bf = '*' if grid.cv_results_[cv_keys[0]][r]==grid.best_score_ else ' ' #star the best score\n",
    "        print(bf+\"%0.3f +/- %0.2f %r\"\n",
    "          % (grid.cv_results_[cv_keys[0]][r],\n",
    "             grid.cv_results_[cv_keys[1]][r] / 2.0,\n",
    "             grid.cv_results_[cv_keys[2]][r]))\n",
    "\n",
    "report_results(grid)\n",
    "print(grid.best_estimator_)"
   ]
  },
  {
   "cell_type": "markdown",
   "metadata": {},
   "source": [
    "We have arrived on our optimal parameters of a max depth of 15 levels, a min_child_weight of 4, and a gamma value of .4. Let's now refit our model by now ensembling on 150 GB Trees."
   ]
  },
  {
   "cell_type": "code",
   "execution_count": 176,
   "metadata": {},
   "outputs": [
    {
     "name": "stdout",
     "output_type": "stream",
     "text": [
      "Overall Accuracy:  0.9453844991690588\n",
      "Macro F1-Score:  0.4938477708926939\n"
     ]
    }
   ],
   "source": [
    "xgb_model = xgb.XGBClassifier(max_depth = 15, n_estimators=150, min_child_weight=4)\n",
    "xgb_model.fit(pca_all_X_train, y_train)\n",
    "preds = xgb_model.predict(pca_all_X_validation)\n",
    "xgb_test_acc = accuracy_score(y_validation, preds)\n",
    "xgb_test_f1 = f1_score(y_validation, preds, average='macro')\n",
    "print(\"Overall Accuracy: \", xgb_test_acc)\n",
    "print(\"Macro F1-Score: \", xgb_test_f1)"
   ]
  },
  {
   "cell_type": "code",
   "execution_count": null,
   "metadata": {},
   "outputs": [],
   "source": []
  }
 ],
 "metadata": {
  "kernelspec": {
   "display_name": "opencv",
   "language": "python",
   "name": "opencv"
  },
  "language_info": {
   "codemirror_mode": {
    "name": "ipython",
    "version": 3
   },
   "file_extension": ".py",
   "mimetype": "text/x-python",
   "name": "python",
   "nbconvert_exporter": "python",
   "pygments_lexer": "ipython3",
   "version": "3.5.6"
  }
 },
 "nbformat": 4,
 "nbformat_minor": 2
}
